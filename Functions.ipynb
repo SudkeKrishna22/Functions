{
  "nbformat": 4,
  "nbformat_minor": 0,
  "metadata": {
    "colab": {
      "provenance": []
    },
    "kernelspec": {
      "name": "python3",
      "display_name": "Python 3"
    },
    "language_info": {
      "name": "python"
    }
  },
  "cells": [
    {
      "cell_type": "markdown",
      "source": [
        "1. What is the difference between a function and a method in Python?\n",
        "  -  a function is a reusable block of code that can be called by name, while a method is a function that's associated with an object or class\n",
        "\n",
        "  def sum(a,b):\n",
        "      return a+b\n",
        "  you can use it anywhere\n",
        "\n",
        "  class C :    \n",
        "      def sum (self , a ,b ):\n",
        "          return a+b\n",
        "    you cant use it without class"
      ],
      "metadata": {
        "id": "XPROVkjjg4pa"
      }
    },
    {
      "cell_type": "markdown",
      "source": [
        " 2. Explain the concept of function arguments and parameters in Python?\n",
        "    - function parameters are placeholders for values that a function will\n",
        "      receive, while arguments are the actual values passed to the function when it's called."
      ],
      "metadata": {
        "id": "e_QCX77hg2y3"
      }
    },
    {
      "cell_type": "markdown",
      "source": [
        " 3. What are the different ways to define and call a function in Python?\n",
        "  - you define a function using the def keyword, followed by the function name, parentheses for parameters, and a colon, then indent the function's code block. To call a function, simply use its name followed by parentheses, optionally with arguments."
      ],
      "metadata": {
        "id": "6CgCrWHZh1Is"
      }
    },
    {
      "cell_type": "markdown",
      "source": [
        "4. What is the purpose of the `return` statement in a Python function ?\n",
        "  - The return statement in a Python function signals the end of its execution and sends a value (or None if no value is specified) back to the caller, allowing the function's output to be used else where in the program."
      ],
      "metadata": {
        "id": "ETyXAAGUijJ6"
      }
    },
    {
      "cell_type": "markdown",
      "source": [
        "5. What are iterators in Python and how do they differ from iterables?\n",
        "  - An Iterable is basically an object that any user can iterate over. An\n",
        "   Iterator is also an object that helps a user in iterating over another object (that is iterable). We can generate an iterator when we pass the object to the iter() method."
      ],
      "metadata": {
        "id": "k3jWK4EbizsP"
      }
    },
    {
      "cell_type": "markdown",
      "source": [
        "6. Explain the concept of generators in Python and how they are defined.\n",
        "  -  generators are functions that return an iterator, producing values on demand using the yield keyword rather than return, enabling efficient memory management for large sequences."
      ],
      "metadata": {
        "id": "kCDe0rrGjDYZ"
      }
    },
    {
      "cell_type": "markdown",
      "source": [
        "7. What are the advantages of using generators over regular functions?\n",
        "   - Generators offer advantages over regular functions, particularly in memory efficiency and lazy evaluation, by yielding values one at a time instead of returning the entire sequence at once, making them ideal for large datasets or infinite streams.\n",
        "   "
      ],
      "metadata": {
        "id": "xMytQ0O-jP4H"
      }
    },
    {
      "cell_type": "markdown",
      "source": [
        " 8. What is a lambda function in Python and when is it typically used?\n",
        "  - a lambda function (also called an anonymous function) is a concise way to define a small, single-expression function without a name, typically used for short, throwaway"
      ],
      "metadata": {
        "id": "-Ll9XY1Zjg88"
      }
    },
    {
      "cell_type": "markdown",
      "source": [
        " 9. Explain the purpose and usage of the `map()` function in Python.\n",
        "  - The map() function in Python applies a given function to each item of an iterable (like a list or tuple) and returns an iterator that yields the results, effectively transforming the iterable without needing explicit loops.  "
      ],
      "metadata": {
        "id": "ro8ULYBRj4sF"
      }
    },
    {
      "cell_type": "markdown",
      "source": [
        " 10. What is the difference between `map()`, `reduce()`, and `filter()` functions in Python?\n",
        "- In Python, map() applies a function to each item in an iterable, filter() selects items based on a condition, and reduce() (from functools) combines elements into a single value."
      ],
      "metadata": {
        "id": "8lJs0s21krQd"
      }
    },
    {
      "cell_type": "markdown",
      "source": [
        "11. Using pen & Paper write the internal mechanism for sum operation using  reduce function on this given list : [47,11,42,13]\n",
        " - from functools import reduce\n",
        "    L = [47,11,42,13]\n",
        "\n",
        "   reduce(lambda x  , y: x + y , L)\n",
        "\n",
        "   first x = 47 , y = 11 ==> x+y = 58\n",
        "   x = 58 , y =  42 ==> x+y = 100\n",
        "   x = 100 , y = 13 = x + y  = 113\n",
        "   return 113"
      ],
      "metadata": {
        "id": "zhPoh6nfk67w"
      }
    },
    {
      "cell_type": "markdown",
      "source": [],
      "metadata": {
        "id": "KZmuWDyGkKCs"
      }
    },
    {
      "cell_type": "code",
      "source": [
        "# 1. Write a Python function that takes a list of numbers as input and returns the sum of all even numbers in the list.\n",
        "input_str = input(\"Enter the list of numbers separated by commas: \")\n",
        "\n",
        "L = [int(num) for num in input_str.split(',')]\n",
        "\n",
        "def sum (l):\n",
        "  sum = 0\n",
        "  for i in l :\n",
        "    if i % 2 == 0 :\n",
        "      sum = sum + i\n",
        "  return sum\n",
        "\n",
        "print(sum(L))"
      ],
      "metadata": {
        "colab": {
          "base_uri": "https://localhost:8080/"
        },
        "id": "kLpDei8_nO61",
        "outputId": "dc96a0e4-9da2-4579-b215-c45f575ef373"
      },
      "execution_count": 7,
      "outputs": [
        {
          "output_type": "stream",
          "name": "stdout",
          "text": [
            "Enter the list of numbers separated by commas: 47,11,42,13\n",
            "42\n"
          ]
        }
      ]
    },
    {
      "cell_type": "code",
      "source": [
        "#2. Create a Python function that accepts a string and returns the reverse of that string.\n",
        "string = input(\"Enter the str : \")\n",
        "\n",
        "\n",
        "def my_function(x):\n",
        "  return x[::-1]\n",
        "\n",
        "mytxt = my_function(string)\n",
        "\n",
        "print(mytxt)"
      ],
      "metadata": {
        "colab": {
          "base_uri": "https://localhost:8080/"
        },
        "id": "5gynG-Ajp1Zv",
        "outputId": "e240d83f-de45-4642-f688-91842d9bb412"
      },
      "execution_count": 9,
      "outputs": [
        {
          "output_type": "stream",
          "name": "stdout",
          "text": [
            "Enter the str : krishsudke\n",
            "ekdushsirk\n"
          ]
        }
      ]
    },
    {
      "cell_type": "code",
      "source": [
        "#  3. Implement a Python function that takes a list of integers and returns a new list containing the squares of each number.\n",
        "input_str = input(\"Enter the list of numbers separated by commas: \")\n",
        "\n",
        "L = [int(num) for num in input_str.split(',')]\n",
        "\n",
        "def my_function(l):\n",
        "  return [i **2 for i in l]\n",
        "\n",
        "Square_list = my_function(L)\n",
        "print(Square_list)"
      ],
      "metadata": {
        "colab": {
          "base_uri": "https://localhost:8080/"
        },
        "id": "koxvpfpyp08E",
        "outputId": "0664ba51-686d-40c2-ecdb-d06cf5ac4191"
      },
      "execution_count": 11,
      "outputs": [
        {
          "output_type": "stream",
          "name": "stdout",
          "text": [
            "Enter the list of numbers separated by commas: 1,2,3,4,5\n",
            "[1, 4, 9, 16, 25]\n"
          ]
        }
      ]
    },
    {
      "cell_type": "code",
      "source": [
        "#  4. Write a Python function that checks if a given number is prime or not from 1 to 200.\n",
        "num = int(input(\"Enter a number\"))\n",
        "\n",
        "def isprime (num):\n",
        "  if num > 200:\n",
        "    return \"Out of range\"\n",
        "  for i in range(2,num):\n",
        "    if num % i == 0:\n",
        "      return \"not prime\"\n",
        "\n",
        "\n",
        "print(isprime(num))\n"
      ],
      "metadata": {
        "colab": {
          "base_uri": "https://localhost:8080/"
        },
        "id": "zv_07TdTnO3s",
        "outputId": "df18eab6-c61b-48a0-8b77-e73950df0ebe"
      },
      "execution_count": 16,
      "outputs": [
        {
          "output_type": "stream",
          "name": "stdout",
          "text": [
            "Enter a number212\n",
            "Out of range\n"
          ]
        }
      ]
    },
    {
      "cell_type": "code",
      "source": [
        "# 5. Create an iterator class in Python that generates the Fibonacci sequence up to a specified number of terms."
      ],
      "metadata": {
        "id": "isx3MZzDnO1h"
      },
      "execution_count": null,
      "outputs": []
    },
    {
      "cell_type": "code",
      "source": [],
      "metadata": {
        "id": "iK58imJYnOx9"
      },
      "execution_count": null,
      "outputs": []
    },
    {
      "cell_type": "code",
      "source": [],
      "metadata": {
        "id": "SNa1CqHbnOvR"
      },
      "execution_count": null,
      "outputs": []
    },
    {
      "cell_type": "code",
      "source": [],
      "metadata": {
        "id": "W6ZRm8Y9nOsa"
      },
      "execution_count": null,
      "outputs": []
    },
    {
      "cell_type": "code",
      "source": [],
      "metadata": {
        "id": "ZitxYYq_nOpt"
      },
      "execution_count": null,
      "outputs": []
    }
  ]
}